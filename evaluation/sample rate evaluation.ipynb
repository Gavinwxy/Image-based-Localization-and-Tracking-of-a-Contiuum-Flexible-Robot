{
 "cells": [
  {
   "cell_type": "code",
   "execution_count": 1,
   "metadata": {},
   "outputs": [],
   "source": [
    "import numpy as np\n",
    "import cv2\n",
    "import matplotlib.pyplot as plt\n",
    "import pandas as pd\n",
    "from ..FindCorrespondPts import findCorrespondPts\n",
    "from ..segmentation import robotSegment, ransacCurveFit\n",
    "from mpl_toolkits.mplot3d import Axes3D\n",
    "from tqdm import tqdm_notebook\n",
    "from collections import defaultdict"
   ]
  },
  {
   "cell_type": "markdown",
   "metadata": {},
   "source": [
    "## Load Optimal Fundamental Matrix"
   ]
  },
  {
   "cell_type": "code",
   "execution_count": 3,
   "metadata": {},
   "outputs": [],
   "source": [
    "coeff_left = np.load('../calibration/calibration_coeff_left.npy').item()\n",
    "kl = coeff_left['intr_mat']\n",
    "\n",
    "coeff_right = np.load('../calibration/calibration_coeff_right.npy').item()\n",
    "kr = coeff_right['intr_mat']\n",
    "\n",
    "trian_param = np.load('../calibration/triangulate_coeff.npy').item()\n",
    "\n",
    "F = trian_param['F']\n",
    "# 2 possible solutions for Rotation and Translation\n",
    "R1 = trian_param['R1']\n",
    "R2 = trian_param['R2']\n",
    "T1 = trian_param['T1']\n",
    "T2 = trian_param['T2']\n",
    "\n",
    "# 4 Possible projection matrix for right camera\n",
    "PR1 = np.hstack((R1, T1))\n",
    "PR2 = np.hstack((R1, T2))\n",
    "PR3 = np.hstack((R2, T1))\n",
    "PR4 = np.hstack((R2, T2))\n",
    "\n",
    "# Initialize Left projection matrix\n",
    "PL = trian_param['PL']\n",
    "\n",
    "\n",
    "PR = PR4\n",
    "\n",
    "# Calculate template points\n",
    "PR_cal = np.matmul(kr, PR)\n",
    "PL_cal = np.matmul(kl, PL)\n",
    "\n"
   ]
  },
  {
   "cell_type": "code",
   "execution_count": 114,
   "metadata": {},
   "outputs": [],
   "source": [
    "# Loading end point data for reconstruction\n",
    "endL = np.load('./data_F/ptsL800_end.npy').item()\n",
    "endR = np.load('./data_F/ptsR800_end.npy').item()\n",
    "\n",
    "eval_idx_all = np.load('./data_F/eval_idx.npy')\n",
    "eval_idx = eval_idx_all[0:50]\n"
   ]
  },
  {
   "cell_type": "markdown",
   "metadata": {},
   "source": [
    "## Sample Num on Corresponding Points Searching"
   ]
  },
  {
   "cell_type": "code",
   "execution_count": 116,
   "metadata": {},
   "outputs": [
    {
     "data": {
      "application/vnd.jupyter.widget-view+json": {
       "model_id": "ad8de1cd9c4945db9ecd6f1a444c1262",
       "version_major": 2,
       "version_minor": 0
      },
      "text/plain": [
       "HBox(children=(IntProgress(value=0, max=50), HTML(value='')))"
      ]
     },
     "metadata": {},
     "output_type": "display_data"
    }
   ],
   "source": [
    "final_res = {}\n",
    "\n",
    "for num in tqdm_notebook(np.logspace(2, 5, num = 50).astype('int')):\n",
    "    stage_res = []\n",
    "    for idx in eval_idx:\n",
    "        imgL = cv2.imread('../../data/CTR_Robot/Camera2/cam2_' + str(idx) + '.png')\n",
    "        imgR = cv2.imread('../../data/CTR_Robot/Camera1/cam1_' + str(idx) + '.png')\n",
    "\n",
    "        bg1 = cv2.imread('../segmentation/bg_res/bg_1.png')\n",
    "        bg2 = cv2.imread('../segmentation/bg_res/bg_2_' + str(idx//50) + '.png')\n",
    "\n",
    "        segL = robotSegmentv2(imgL, bg2)\n",
    "        segR = robotSegmentv2(imgR, bg1)\n",
    "\n",
    "        pts_end_R = endR[idx][1]\n",
    "        pts_end_L = endL[idx][1]\n",
    "\n",
    "        ptsR = ransacCurveFit(segR, pt_end = pts_end_R, degree = 7, trials = 100, sampleNum = num)\n",
    "        ptsL = ransacCurveFit(segL, pt_end = pts_end_L, degree = 7, trials = 100, sampleNum = 100)\n",
    "\n",
    "        # Caculate Epipolar Constraint with Absolute Value\n",
    "        pts_cor_L, pts_cor_R = findCorrespondPts(ptsL, ptsR, F, thresh = 10)\n",
    "        test_left, test_right = pts_cor_L[0], pts_cor_R[0]\n",
    "        test_left = np.hstack((test_left, np.ones((len(test_left),1))))\n",
    "        test_right = np.hstack((test_right, np.ones((len(test_right),1))))\n",
    "        F_res = np.matmul(np.matmul(test_right, F), test_left.T)\n",
    "        sum_res = np.sum(np.abs(np.diag(F_res)))\n",
    "        stage_res.append(sum_res)\n",
    "    \n",
    "    final_res[num] = sum(stage_res)\n",
    "    "
   ]
  },
  {
   "cell_type": "code",
   "execution_count": 136,
   "metadata": {},
   "outputs": [],
   "source": [
    "#np.save('absolute_error_sample_num.npy', final_res)\n",
    "final_res = np.load('absolute_error_sample_num.npy').item()"
   ]
  },
  {
   "cell_type": "code",
   "execution_count": 135,
   "metadata": {},
   "outputs": [
    {
     "data": {
      "image/png": "[encoded data removed]",
      "text/plain": [
       "<Figure size 720x504 with 1 Axes>"
      ]
     },
     "metadata": {
      "needs_background": "light"
     },
     "output_type": "display_data"
    }
   ],
   "source": [
    "# In 100 cases, the accumulated sampling errors\n",
    "\n",
    "\n",
    "x = list(final_res.keys())\n",
    "y = []\n",
    "for key in final_res.keys():\n",
    "    y.append(final_res[key]*2)\n",
    "    \n",
    "plt.figure(figsize = (10, 7))\n",
    "plt.ylim([0, 3])\n",
    "#plt.xlim([0, 50000])\n",
    "plt.plot(x, y, c = 'r', marker = 'o')\n",
    "plt.title('Epipolar Absolute Error Vs Sample Number', fontsize = 22)\n",
    "plt.ylabel('Absolute Error ($Pixel$)', fontsize=18)\n",
    "plt.xlabel('Sample Number', fontsize=18)\n",
    "plt.rc('xtick', labelsize=15)  \n",
    "plt.rc('ytick', labelsize=15) \n",
    "plt.savefig(\"epipolar_error_sample_number.pdf\", bbox_inches='tight')\n",
    "plt.show()"
   ]
  },
  {
   "cell_type": "markdown",
   "metadata": {},
   "source": [
    "## Sample Num on Final Reconstruction"
   ]
  },
  {
   "cell_type": "code",
   "execution_count": 169,
   "metadata": {},
   "outputs": [],
   "source": [
    "final_recon_res = defaultdict(dict)\n",
    "pts3D_eval = {}\n",
    "\n",
    "range1 = list(np.linspace(10, 100, num = 10))\n",
    "range2 = list(np.linspace(150, 1000, num = 18))\n",
    "test_list = range1 + range2\n",
    "\n",
    "pt_seg_left = np.load('./data_F/ptsL800_out.npy').item()\n",
    "pt_seg_right = np.load('./data_F/ptsR800_out.npy').item()\n",
    "\n",
    "imgl_pts = np.load('../calibration/blob_loc_left.npy')\n",
    "imgr_pts = np.load('../calibration/blob_loc_right.npy')"
   ]
  },
  {
   "cell_type": "code",
   "execution_count": 170,
   "metadata": {},
   "outputs": [],
   "source": [
    "# Load length data\n",
    "from scipy.io import loadmat\n",
    "dist_gt = {}\n",
    "for idx in eval_idx:\n",
    "    mat = loadmat('../../data/CTR_Robot/Robot_data/pos_' + str(idx) + '.mat')['pos'][0]\n",
    "    # Calculate ground truth length\n",
    "    dist_inner = 431 + mat[0]*1000\n",
    "    #dist_mid = 332 + mat[1]*1000\n",
    "    dist_out = 174 + mat[2]*1000\n",
    "    # Save results\n",
    "    dist_gt[idx] = (dist_inner, dist_out)"
   ]
  },
  {
   "cell_type": "code",
   "execution_count": 171,
   "metadata": {},
   "outputs": [],
   "source": [
    "def distCal(pts):\n",
    "    L = 0\n",
    "    Xs, Ys, Zs = pts[0], pts[1], pts[2]\n",
    "    for idx in range(len(pts)-1):\n",
    "        xd = (Xs[idx-1]-Xs[idx])**2\n",
    "        yd = (Ys[idx-1]-Ys[idx])**2\n",
    "        zd = (Zs[idx-1]-Zs[idx])**2\n",
    "        L += np.sqrt(xd+yd+zd)\n",
    "    return L"
   ]
  },
  {
   "cell_type": "code",
   "execution_count": 172,
   "metadata": {},
   "outputs": [],
   "source": [
    "########################################### Template for rescaling ##################################################\n",
    "temp = cv2.triangulatePoints(PL_cal, PR_cal, imgl_pts, imgr_pts).T\n",
    "temp3D = cv2.convertPointsFromHomogeneous(temp).T[:,0]\n",
    "# Recover scale from template points\n",
    "Xs_tp = temp3D[0]\n",
    "Ys_tp = temp3D[1]\n",
    "Zs_tp = temp3D[2]\n",
    "\n",
    "dist_dot = []\n",
    "for idx in range(len(Xs_tp)-1):\n",
    "    xd = (Xs_tp[idx]-Xs_tp[idx+1])**2\n",
    "    yd = (Ys_tp[idx]-Ys_tp[idx+1])**2\n",
    "    zd = (Zs_tp[idx]-Zs_tp[idx+1])**2\n",
    "    L = np.sqrt(xd+yd+zd)\n",
    "    if L < 0.1:\n",
    "        dist_dot.append(L)\n",
    "recon_dist = np.mean(dist_dot)\n",
    "\n",
    "\n",
    "################################################ Evaluate #####################################################################\n",
    "dist_eval = {}\n",
    "template_dist = 18.2\n",
    "scale = template_dist/recon_dist"
   ]
  },
  {
   "cell_type": "code",
   "execution_count": 173,
   "metadata": {},
   "outputs": [
    {
     "data": {
      "application/vnd.jupyter.widget-view+json": {
       "model_id": "1a8bfd3545334771a4b07fe663f9259f",
       "version_major": 2,
       "version_minor": 0
      },
      "text/plain": [
       "HBox(children=(IntProgress(value=0, max=28), HTML(value='')))"
      ]
     },
     "metadata": {},
     "output_type": "display_data"
    },
    {
     "data": {
      "application/vnd.jupyter.widget-view+json": {
       "model_id": "9f8f8a794b2a45348ff53ae320dd57c0",
       "version_major": 2,
       "version_minor": 0
      },
      "text/plain": [
       "HBox(children=(IntProgress(value=0), HTML(value='')))"
      ]
     },
     "metadata": {},
     "output_type": "display_data"
    },
    {
     "data": {
      "application/vnd.jupyter.widget-view+json": {
       "model_id": "3cdf3a9025834d5b93b029fee82a65c7",
       "version_major": 2,
       "version_minor": 0
      },
      "text/plain": [
       "HBox(children=(IntProgress(value=0), HTML(value='')))"
      ]
     },
     "metadata": {},
     "output_type": "display_data"
    },
    {
     "data": {
      "application/vnd.jupyter.widget-view+json": {
       "model_id": "cd96de32500e433d8b5b7fbbfe774b8c",
       "version_major": 2,
       "version_minor": 0
      },
      "text/plain": [
       "HBox(children=(IntProgress(value=0), HTML(value='')))"
      ]
     },
     "metadata": {},
     "output_type": "display_data"
    },
    {
     "data": {
      "application/vnd.jupyter.widget-view+json": {
       "model_id": "ee646808b3364c668937c91bf5372400",
       "version_major": 2,
       "version_minor": 0
      },
      "text/plain": [
       "HBox(children=(IntProgress(value=0), HTML(value='')))"
      ]
     },
     "metadata": {},
     "output_type": "display_data"
    },
    {
     "data": {
      "application/vnd.jupyter.widget-view+json": {
       "model_id": "b0be8d15343347c99fef15646b79fb3b",
       "version_major": 2,
       "version_minor": 0
      },
      "text/plain": [
       "HBox(children=(IntProgress(value=0), HTML(value='')))"
      ]
     },
     "metadata": {},
     "output_type": "display_data"
    },
    {
     "data": {
      "application/vnd.jupyter.widget-view+json": {
       "model_id": "cf92ba16891d4e78acf191b5d76e8b48",
       "version_major": 2,
       "version_minor": 0
      },
      "text/plain": [
       "HBox(children=(IntProgress(value=0), HTML(value='')))"
      ]
     },
     "metadata": {},
     "output_type": "display_data"
    },
    {
     "data": {
      "application/vnd.jupyter.widget-view+json": {
       "model_id": "b9a9e527e5f04622a457a5e41c35b36b",
       "version_major": 2,
       "version_minor": 0
      },
      "text/plain": [
       "HBox(children=(IntProgress(value=0), HTML(value='')))"
      ]
     },
     "metadata": {},
     "output_type": "display_data"
    },
    {
     "data": {
      "application/vnd.jupyter.widget-view+json": {
       "model_id": "7a8da37a8f374f648072bc3ca7acfd3d",
       "version_major": 2,
       "version_minor": 0
      },
      "text/plain": [
       "HBox(children=(IntProgress(value=0), HTML(value='')))"
      ]
     },
     "metadata": {},
     "output_type": "display_data"
    },
    {
     "data": {
      "application/vnd.jupyter.widget-view+json": {
       "model_id": "d22d49cfcda54cefafbeb30fe817df85",
       "version_major": 2,
       "version_minor": 0
      },
      "text/plain": [
       "HBox(children=(IntProgress(value=0), HTML(value='')))"
      ]
     },
     "metadata": {},
     "output_type": "display_data"
    },
    {
     "data": {
      "application/vnd.jupyter.widget-view+json": {
       "model_id": "12bb6f08e8394a618a664ef1f3ed2a7f",
       "version_major": 2,
       "version_minor": 0
      },
      "text/plain": [
       "HBox(children=(IntProgress(value=0), HTML(value='')))"
      ]
     },
     "metadata": {},
     "output_type": "display_data"
    },
    {
     "data": {
      "application/vnd.jupyter.widget-view+json": {
       "model_id": "2e60df38d53a4cbd9184f77db6cd973c",
       "version_major": 2,
       "version_minor": 0
      },
      "text/plain": [
       "HBox(children=(IntProgress(value=0), HTML(value='')))"
      ]
     },
     "metadata": {},
     "output_type": "display_data"
    },
    {
     "data": {
      "application/vnd.jupyter.widget-view+json": {
       "model_id": "13fd4cad1e5046d4843ba926136052c3",
       "version_major": 2,
       "version_minor": 0
      },
      "text/plain": [
       "HBox(children=(IntProgress(value=0), HTML(value='')))"
      ]
     },
     "metadata": {},
     "output_type": "display_data"
    },
    {
     "data": {
      "application/vnd.jupyter.widget-view+json": {
       "model_id": "38f4c2f65c874f50a032711547bcd12c",
       "version_major": 2,
       "version_minor": 0
      },
      "text/plain": [
       "HBox(children=(IntProgress(value=0), HTML(value='')))"
      ]
     },
     "metadata": {},
     "output_type": "display_data"
    },
    {
     "data": {
      "application/vnd.jupyter.widget-view+json": {
       "model_id": "ecdf736e9aee45b29ba3cd09c9b384c6",
       "version_major": 2,
       "version_minor": 0
      },
      "text/plain": [
       "HBox(children=(IntProgress(value=0), HTML(value='')))"
      ]
     },
     "metadata": {},
     "output_type": "display_data"
    },
    {
     "data": {
      "application/vnd.jupyter.widget-view+json": {
       "model_id": "0da2c388387249afa1e953a0144510e2",
       "version_major": 2,
       "version_minor": 0
      },
      "text/plain": [
       "HBox(children=(IntProgress(value=0), HTML(value='')))"
      ]
     },
     "metadata": {},
     "output_type": "display_data"
    },
    {
     "data": {
      "application/vnd.jupyter.widget-view+json": {
       "model_id": "926ccb9f2a48458ea0ad639591f1347b",
       "version_major": 2,
       "version_minor": 0
      },
      "text/plain": [
       "HBox(children=(IntProgress(value=0), HTML(value='')))"
      ]
     },
     "metadata": {},
     "output_type": "display_data"
    },
    {
     "data": {
      "application/vnd.jupyter.widget-view+json": {
       "model_id": "d923924bd5df4491a987f9fdf2408bd1",
       "version_major": 2,
       "version_minor": 0
      },
      "text/plain": [
       "HBox(children=(IntProgress(value=0), HTML(value='')))"
      ]
     },
     "metadata": {},
     "output_type": "display_data"
    },
    {
     "data": {
      "application/vnd.jupyter.widget-view+json": {
       "model_id": "b8773bd0cc944fd186e0c656258b286c",
       "version_major": 2,
       "version_minor": 0
      },
      "text/plain": [
       "HBox(children=(IntProgress(value=0), HTML(value='')))"
      ]
     },
     "metadata": {},
     "output_type": "display_data"
    },
    {
     "data": {
      "application/vnd.jupyter.widget-view+json": {
       "model_id": "a88460713344480a9877d2d77de4f9ad",
       "version_major": 2,
       "version_minor": 0
      },
      "text/plain": [
       "HBox(children=(IntProgress(value=0), HTML(value='')))"
      ]
     },
     "metadata": {},
     "output_type": "display_data"
    },
    {
     "data": {
      "application/vnd.jupyter.widget-view+json": {
       "model_id": "52a52ac8b22d46d68bba29fb8bf2feb5",
       "version_major": 2,
       "version_minor": 0
      },
      "text/plain": [
       "HBox(children=(IntProgress(value=0), HTML(value='')))"
      ]
     },
     "metadata": {},
     "output_type": "display_data"
    },
    {
     "data": {
      "application/vnd.jupyter.widget-view+json": {
       "model_id": "165a7dc3bd4843638b2415210ad9c827",
       "version_major": 2,
       "version_minor": 0
      },
      "text/plain": [
       "HBox(children=(IntProgress(value=0), HTML(value='')))"
      ]
     },
     "metadata": {},
     "output_type": "display_data"
    },
    {
     "data": {
      "application/vnd.jupyter.widget-view+json": {
       "model_id": "a55da457be004fbfa8d41d75ef16092a",
       "version_major": 2,
       "version_minor": 0
      },
      "text/plain": [
       "HBox(children=(IntProgress(value=0), HTML(value='')))"
      ]
     },
     "metadata": {},
     "output_type": "display_data"
    },
    {
     "data": {
      "application/vnd.jupyter.widget-view+json": {
       "model_id": "04b06219f0d341fcb410203a6c4ca4a3",
       "version_major": 2,
       "version_minor": 0
      },
      "text/plain": [
       "HBox(children=(IntProgress(value=0), HTML(value='')))"
      ]
     },
     "metadata": {},
     "output_type": "display_data"
    },
    {
     "data": {
      "application/vnd.jupyter.widget-view+json": {
       "model_id": "db123088df3d4b559d6e8aa7db42eb91",
       "version_major": 2,
       "version_minor": 0
      },
      "text/plain": [
       "HBox(children=(IntProgress(value=0), HTML(value='')))"
      ]
     },
     "metadata": {},
     "output_type": "display_data"
    },
    {
     "data": {
      "application/vnd.jupyter.widget-view+json": {
       "model_id": "e598ebb0b3224a0da3aa3c4155268e27",
       "version_major": 2,
       "version_minor": 0
      },
      "text/plain": [
       "HBox(children=(IntProgress(value=0), HTML(value='')))"
      ]
     },
     "metadata": {},
     "output_type": "display_data"
    },
    {
     "data": {
      "application/vnd.jupyter.widget-view+json": {
       "model_id": "f60462e0d4834cec95164f4463268168",
       "version_major": 2,
       "version_minor": 0
      },
      "text/plain": [
       "HBox(children=(IntProgress(value=0), HTML(value='')))"
      ]
     },
     "metadata": {},
     "output_type": "display_data"
    },
    {
     "data": {
      "application/vnd.jupyter.widget-view+json": {
       "model_id": "d7f0cd1071724d6db840ebb5de038203",
       "version_major": 2,
       "version_minor": 0
      },
      "text/plain": [
       "HBox(children=(IntProgress(value=0), HTML(value='')))"
      ]
     },
     "metadata": {},
     "output_type": "display_data"
    },
    {
     "data": {
      "application/vnd.jupyter.widget-view+json": {
       "model_id": "be6b1db8316948d488bbf13b88124c27",
       "version_major": 2,
       "version_minor": 0
      },
      "text/plain": [
       "HBox(children=(IntProgress(value=0), HTML(value='')))"
      ]
     },
     "metadata": {},
     "output_type": "display_data"
    }
   ],
   "source": [
    "for num in tqdm_notebook(test_list):\n",
    "    for idx in eval_idx:\n",
    "        imgL = cv2.imread('../../data/CTR_Robot/Camera2/cam2_' + str(idx) + '.png')\n",
    "        imgR = cv2.imread('../../data/CTR_Robot/Camera1/cam1_' + str(idx) + '.png')\n",
    "\n",
    "        bg1 = cv2.imread('../segmentation/bg_res/bg_1.png')\n",
    "        bg2 = cv2.imread('../segmentation/bg_res/bg_2_' + str(idx//50) + '.png')\n",
    "\n",
    "        segL = robotSegmentv2(imgL, bg2)\n",
    "        segR = robotSegmentv2(imgR, bg1)\n",
    "\n",
    "        pts_end_R = endR[idx][1]\n",
    "        pts_end_L = endL[idx][1]\n",
    "\n",
    "        ptsR = ransacCurveFit_v3(segR, pt_end = pts_end_R, degree = 7, trials = 100, sampleNum = 50000)\n",
    "        ptsL = ransacCurveFit_v3(segL, pt_end = pts_end_L, degree = 7, trials = 100, sampleNum = num)\n",
    "\n",
    "        ptsL_cor, ptsR_cor = findCorrespondPts_v3(ptsL, ptsR, F, thresh = 0.01)\n",
    "\n",
    "        pts = cv2.triangulatePoints(PL_cal, PR_cal, ptsL_cor, ptsR_cor).T\n",
    "        pts3D = cv2.convertPointsFromHomogeneous(pts).T[:,0]\n",
    "        pts3D_eval[idx] = [ptsL_cor, ptsR_cor, pts3D]\n",
    "\n",
    "\n",
    "    pt_joint_eval = {}\n",
    "    for idx in tqdm_notebook(eval_idx):\n",
    "        if idx in pt_seg_left:\n",
    "            pt_seg = pt_seg_left\n",
    "            pts_cor = pts3D_eval[idx][0]\n",
    "        elif idx in pt_seg_right:\n",
    "            pt_seg = pt_seg_right\n",
    "            pts_cor = pts3D_eval[idx][1]\n",
    "\n",
    "        # extract label joint points \n",
    "        pt1 = pt_seg[idx]\n",
    "\n",
    "        # calculate most close points as joint point\n",
    "        mat1 = pts_cor[0] - pt1\n",
    "        dist1 = np.sqrt(np.diag(np.matmul(mat1, mat1.T)))\n",
    "        jointPt1 = np.argmin(dist1)\n",
    "\n",
    "        # save 2 joints for each case\n",
    "        pt_joint_eval[idx] = jointPt1\n",
    "\n",
    "\n",
    "\n",
    "    for idx in eval_idx:\n",
    "        # Load reconstruction result\n",
    "        pts3D = pts3D_eval[idx][2]\n",
    "        # Load segment point idx\n",
    "        seg_idx1 = pt_joint_eval[idx]\n",
    "        # Outter seg\n",
    "        seg1 = pts3D.T[0:seg_idx1]\n",
    "        # Inner seg\n",
    "        seg3 = pts3D.T\n",
    "\n",
    "        dist_out = distCal(seg1.T)*scale\n",
    "        dist_inner = distCal(seg3.T)*scale\n",
    "\n",
    "        dist_eval[idx] = (dist_inner, dist_out) \n",
    "\n",
    "    # Caculate Error\n",
    "    error = {}\n",
    "    for idx in eval_idx:\n",
    "        gt_in, gt_out = dist_gt[idx]\n",
    "        cal_in, cal_out = dist_eval[idx]\n",
    "        error[idx] = (gt_in-cal_in, gt_out-cal_out)\n",
    "\n",
    "\n",
    "    out_cal = []\n",
    "    inner_cal = []\n",
    "\n",
    "    out_gt = []\n",
    "    inner_gt = []\n",
    "\n",
    "    out_error = []\n",
    "    inner_error = []\n",
    "\n",
    "    index = []\n",
    "\n",
    "    for key in dist_eval.keys():\n",
    "        index.append(key)\n",
    "\n",
    "        out_cal.append(dist_eval[key][1])\n",
    "        inner_cal.append(dist_eval[key][0])\n",
    "\n",
    "        out_gt.append(dist_gt[key][1])\n",
    "        inner_gt.append(dist_gt[key][0])\n",
    "\n",
    "        out_error.append(error[key][1])\n",
    "        inner_error.append(error[key][0])\n",
    "\n",
    "    data = {\n",
    "        'index': index,   \n",
    "        'inner_cal': inner_cal,\n",
    "        'out_cal': out_cal,  \n",
    "        'inner_gt':inner_gt,  \n",
    "        'out_gt': out_gt,\n",
    "        'inner_error':inner_error,  \n",
    "        'out_error':out_error,\n",
    "    }\n",
    "\n",
    "    ############################################### Statistic #################################################\n",
    "    res_data = pd.DataFrame(data)\n",
    "    in_cor = np.corrcoef(res_data['inner_cal'], res_data['inner_gt'])\n",
    "\n",
    "    in_mean = np.mean(np.abs(res_data['inner_error']))\n",
    "    in_std = np.std(np.abs(res_data['inner_error']))\n",
    "\n",
    "    out_cor = np.corrcoef(res_data['out_cal'], res_data['out_gt'])\n",
    "    out_mean = np.mean(np.abs(res_data['out_error']))\n",
    "    out_std = np.std(np.abs(res_data['out_error']))\n",
    "\n",
    "    final_recon_res[num]['inner_error_mean'] = in_mean\n",
    "    final_recon_res[num]['inner_error_dev'] = in_std\n",
    "    final_recon_res[num]['outter_error_mean'] = out_mean\n",
    "    final_recon_res[num]['outter_error_dev'] = out_std"
   ]
  },
  {
   "cell_type": "code",
   "execution_count": 2,
   "metadata": {},
   "outputs": [],
   "source": [
    "#np.save('length_error_sample_num.npy', final_recon_res)\n",
    "final_recon_res = np.load('length_error_sample_num.npy').item()"
   ]
  },
  {
   "cell_type": "code",
   "execution_count": 3,
   "metadata": {},
   "outputs": [],
   "source": [
    "x = list(final_recon_res.keys())\n",
    "\n",
    "y_out_mean = []\n",
    "y_out_std = []\n",
    "\n",
    "y_in_mean = []\n",
    "y_in_std = []\n",
    "\n",
    "for key in final_recon_res.keys():\n",
    "    y_out_mean.append(final_recon_res[key]['outter_error_mean'])\n",
    "    y_out_std.append(final_recon_res[key]['outter_error_dev'])\n",
    "    y_in_mean.append(final_recon_res[key]['inner_error_mean'])\n",
    "    y_in_std.append(final_recon_res[key]['inner_error_dev'])    "
   ]
  },
  {
   "cell_type": "code",
   "execution_count": 217,
   "metadata": {},
   "outputs": [
    {
     "data": {
      "image/png": "[encoded data removed]",
      "text/plain": [
       "<Figure size 720x504 with 1 Axes>"
      ]
     },
     "metadata": {
      "needs_background": "light"
     },
     "output_type": "display_data"
    }
   ],
   "source": [
    "plt.figure(figsize = (10, 7))\n",
    "#plt.ylim([0, 3])\n",
    "plt.xlim([0, 500])\n",
    "plt.plot(x, y_in_mean, c = 'r', marker = 'o', label='Inner tube')\n",
    "plt.plot(x, y_out_mean, c = 'b', marker = 'o', label='Outter tube')\n",
    "\n",
    "plt.title('Mean of Absolute Length Error Vs Sample Number', fontsize = 22)\n",
    "plt.ylabel('Mean of Absolute Error ($mm$)', fontsize=18)\n",
    "plt.xlabel('Sample Number', fontsize=18)\n",
    "plt.rc('xtick', labelsize=15)  \n",
    "plt.rc('ytick', labelsize=15) \n",
    "plt.legend(fontsize=15)\n",
    "plt.savefig(\"error_mean_sample_number.pdf\", bbox_inches='tight')\n",
    "plt.show()"
   ]
  },
  {
   "cell_type": "code",
   "execution_count": 218,
   "metadata": {},
   "outputs": [
    {
     "data": {
      "image/png": "[encoded data removed]",
      "text/plain": [
       "<Figure size 720x504 with 1 Axes>"
      ]
     },
     "metadata": {
      "needs_background": "light"
     },
     "output_type": "display_data"
    }
   ],
   "source": [
    "plt.figure(figsize = (10, 7))\n",
    "#plt.ylim([0, 3])\n",
    "plt.xlim([0, 500])\n",
    "plt.plot(x, y_in_std, c = 'r', marker = 'o', label='Inner tube')\n",
    "plt.plot(x, y_out_std, c = 'b', marker = 'o', label='Outter tube')\n",
    "\n",
    "plt.title('Deviation of Absolute Length Error Vs Sample Number', fontsize = 22)\n",
    "plt.ylabel('Deviation of Absolute Error ($mm$)', fontsize=18)\n",
    "plt.xlabel('Sample Number', fontsize=18)\n",
    "plt.rc('xtick', labelsize=15)  \n",
    "plt.rc('ytick', labelsize=15)\n",
    "plt.legend(fontsize=15)\n",
    "plt.savefig(\"error_std_sample_number.pdf\", bbox_inches='tight')\n",
    "plt.show()"
   ]
  },
  {
   "cell_type": "code",
   "execution_count": null,
   "metadata": {},
   "outputs": [],
   "source": []
  }
 ],
 "metadata": {
  "kernelspec": {
   "display_name": "Python 3",
   "language": "python",
   "name": "python3"
  },
  "language_info": {
   "codemirror_mode": {
    "name": "ipython",
    "version": 3
   },
   "file_extension": ".py",
   "mimetype": "text/x-python",
   "name": "python",
   "nbconvert_exporter": "python",
   "pygments_lexer": "ipython3",
   "version": "3.7.1"
  }
 },
 "nbformat": 4,
 "nbformat_minor": 2
}
